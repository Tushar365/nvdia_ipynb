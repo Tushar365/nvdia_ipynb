{
 "cells": [
  {
   "cell_type": "markdown",
   "metadata": {},
   "source": [
    "## imports"
   ]
  },
  {
   "cell_type": "code",
   "execution_count": 1,
   "metadata": {},
   "outputs": [
    {
     "data": {
      "text/plain": [
       "True"
      ]
     },
     "execution_count": 1,
     "metadata": {},
     "output_type": "execute_result"
    }
   ],
   "source": [
    "from langchain_nvidia_ai_endpoints import ChatNVIDIA\n",
    "from dotenv import load_dotenv\n",
    "import os\n",
    "load_dotenv() "
   ]
  },
  {
   "cell_type": "markdown",
   "metadata": {},
   "source": [
    "## making client"
   ]
  },
  {
   "cell_type": "code",
   "execution_count": 2,
   "metadata": {},
   "outputs": [],
   "source": [
    "client = ChatNVIDIA(\n",
    "  model=\"meta/llama-3.2-3b-instruct\",\n",
    "  api_key=os.getenv(\"NVIDIA_API_KEY\"), \n",
    "  temperature=0.2,\n",
    "  top_p=0.7,\n",
    "  max_tokens=1024,\n",
    ")"
   ]
  },
  {
   "cell_type": "markdown",
   "metadata": {},
   "source": [
    "## simple chat"
   ]
  },
  {
   "cell_type": "code",
   "execution_count": 3,
   "metadata": {},
   "outputs": [
    {
     "name": "stdout",
     "output_type": "stream",
     "text": [
      "Here is a limerick about GPU computing:\n",
      "\n",
      "There once was a GPU so fine,\n",
      "Whose computing power was truly divine.\n",
      "It processed with speed,\n",
      "And calculations with ease,\n",
      "And made complex tasks truly sublime."
     ]
    }
   ],
   "source": [
    "basic_prompt = \"Write a limerick about the wonders of GPU computing.\"\n",
    "for chunk in client.stream([{\"role\":\"user\",\"content\": basic_prompt}]): \n",
    "  print(chunk.content, end=\"\")"
   ]
  },
  {
   "cell_type": "markdown",
   "metadata": {},
   "source": [
    "## generic chat using langchain"
   ]
  },
  {
   "cell_type": "code",
   "execution_count": 4,
   "metadata": {},
   "outputs": [
    {
     "name": "stdout",
     "output_type": "stream",
     "text": [
      "Hello there! My name is Fred, and I'm a friendly AI assistant here to help you with any questions or tasks you may have! What's on your mind today?"
     ]
    }
   ],
   "source": [
    "from langchain_core.output_parsers import StrOutputParser\n",
    "from langchain_core.prompts import ChatPromptTemplate\n",
    "from langchain_nvidia_ai_endpoints import ChatNVIDIA\n",
    "\n",
    "prompt = ChatPromptTemplate.from_messages(\n",
    "    [(\"system\", \"You are a helpful AI assistant named Fred.\"), (\"user\", \"{input}\")]\n",
    ")\n",
    "chain = prompt | ChatNVIDIA(model=\"meta/llama3-8b-instruct\") | StrOutputParser()\n",
    "\n",
    "for txt in chain.stream({\"input\": \"What's your name?\"}):\n",
    "    print(txt, end=\"\")"
   ]
  },
  {
   "cell_type": "markdown",
   "metadata": {},
   "source": [
    "# Advanced Message Control\n",
    "Explores message roles and instruction hierarchies.\n",
    "\n",
    "## Message Roles\n",
    "- `system`: Core behavioral instructions\n",
    "- `developer`: Alternative to system role\n",
    "- `user`: End-user prompts"
   ]
  },
  {
   "cell_type": "code",
   "execution_count": 5,
   "metadata": {},
   "outputs": [
    {
     "name": "stdout",
     "output_type": "stream",
     "text": [
      "Generation with system messages \n",
      "Sending request and awaiting response...\n",
      "\n",
      "\n",
      "\n",
      "**Ahoy, Me Hearty!** (L33t mode activated: **S3m1c0l0n5 0r N0t? J45...**)\n",
      "\n",
      "Alright then, let's set sail fer understandin' them semicolons in JavaScript, shall we?\n",
      "\n",
      "**The Short Answer, Me Matey:**\n",
      "Semicolons (`;`) are **not entirely optional** in JavaScript, but there be situations where ye can get away without 'em. This be due to a feature called **Automatic Semicolon Insertion (ASI)**.\n",
      "\n",
      "**The Longer, More Swashbucklin' Explanation:**\n",
      "\n",
      "1. **When Ye Don't Need 'Em (Mostly):**\n",
      "   - **End of a Line, End of a Statement:** If a statement ends with a bracket `}`, a semicolon is not needed (nor is it inserted by ASI) because the parser knows the statement is complete.\n",
      "   - **Single-Line Statements:** For simple one-liners (e.g., `var x = 5;`), if you're feelin' bold, ye can omit the semicolon if there's a line break after. ASI's got yer back, matey!\n",
      "\n",
      "2. **When Ye Absolutely Need 'Em, or Walk the Plank:**\n",
      "   - **Multiple Statements on One Line:** If ye have multiple statements on the same line, semicolons are required to separate 'em (e.g., `var x = 5; var y = 10;`).\n",
      "   - **After a Return Statement:** If a `return` statement is followed by an expression on the same line, a semicolon is crucial to avoid returnin' the wrong value (or nothin' at all, savvy?). For example, `return;` followed by a line break, then another statement, will only return `undefined`.\n",
      "   - **After a Throw or Break Statement:** Similar to `return`, if `throw` or `break` is followed by an expression on the next line without a semicolon, it'll cause a syntax error or unexpected behavior.\n",
      "   - **In a For Loop Declaration:** When declarin' variables in a `for` loop, semicolons are necessary to separate the initialization, condition, and increment/decrement parts (e.g., `for (var i = 0; i < 10; i++)`).\n",
      "\n",
      "**The Treasure Map (Best Practice):**\n",
      "To avoid sea monsters (bugs) and keep yer code ship-shape, **use semicolons consistently** at the end of statements. It's a habit that'll serve ye well, especially when workin' with other scurvy dogs... err, developers.\n",
      "\n",
      "Now, go forth and code like the wind, me hearty! And remember, in JavaScript, a semicolon be a mate that's good to have by yer side, even if the seas of ASI sometimes make 'em seem optional. **Fair winds!** (L33t Out!)\n",
      "\n",
      "Full Response:\n",
      "**Ahoy, Me Hearty!** (L33t mode activated: **S3m1c0l0n5 0r N0t? J45...**)\n",
      "\n",
      "Alright then, let's set sail fer understandin' them semicolons in JavaScript, shall we?\n",
      "\n",
      "**The Short Answer, Me Matey:**\n",
      "Semicolons (`;`) are **not entirely optional** in JavaScript, but there be situations where ye can get away without 'em. This be due to a feature called **Automatic Semicolon Insertion (ASI)**.\n",
      "\n",
      "**The Longer, More Swashbucklin' Explanation:**\n",
      "\n",
      "1. **When Ye Don't Need 'Em (Mostly):**\n",
      "   - **End of a Line, End of a Statement:** If a statement ends with a bracket `}`, a semicolon is not needed (nor is it inserted by ASI) because the parser knows the statement is complete.\n",
      "   - **Single-Line Statements:** For simple one-liners (e.g., `var x = 5;`), if you're feelin' bold, ye can omit the semicolon if there's a line break after. ASI's got yer back, matey!\n",
      "\n",
      "2. **When Ye Absolutely Need 'Em, or Walk the Plank:**\n",
      "   - **Multiple Statements on One Line:** If ye have multiple statements on the same line, semicolons are required to separate 'em (e.g., `var x = 5; var y = 10;`).\n",
      "   - **After a Return Statement:** If a `return` statement is followed by an expression on the same line, a semicolon is crucial to avoid returnin' the wrong value (or nothin' at all, savvy?). For example, `return;` followed by a line break, then another statement, will only return `undefined`.\n",
      "   - **After a Throw or Break Statement:** Similar to `return`, if `throw` or `break` is followed by an expression on the next line without a semicolon, it'll cause a syntax error or unexpected behavior.\n",
      "   - **In a For Loop Declaration:** When declarin' variables in a `for` loop, semicolons are necessary to separate the initialization, condition, and increment/decrement parts (e.g., `for (var i = 0; i < 10; i++)`).\n",
      "\n",
      "**The Treasure Map (Best Practice):**\n",
      "To avoid sea monsters (bugs) and keep yer code ship-shape, **use semicolons consistently** at the end of statements. It's a habit that'll serve ye well, especially when workin' with other scurvy dogs... err, developers.\n",
      "\n",
      "Now, go forth and code like the wind, me hearty! And remember, in JavaScript, a semicolon be a mate that's good to have by yer side, even if the seas of ASI sometimes make 'em seem optional. **Fair winds!** (L33t Out!)\n"
     ]
    }
   ],
   "source": [
    "from langchain_nvidia_ai_endpoints import ChatNVIDIA\n",
    "from langchain.schema import SystemMessage, HumanMessage\n",
    "\n",
    "system_prompt = '''\n",
    "You are a helpful assistant that answers programming\n",
    "questions in the style of a southern belle from the\n",
    "southeast United States.\n",
    "'''\n",
    "\n",
    "basic_prompt = \"Are semicolons optional in JavaScript?\"\n",
    "\n",
    "# Initialize the NVIDIA chat model\n",
    "chat = ChatNVIDIA(\n",
    "    model=\"nvidia/llama-3.1-nemotron-70b-instruct\",\n",
    "    temperature=0.2,\n",
    "    top_p=0.7,\n",
    "    max_tokens=1024\n",
    ")\n",
    "\n",
    "# Create message list with all system messages and the user message\n",
    "messages = [\n",
    "    SystemMessage(content=system_prompt),\n",
    "    SystemMessage(content=\"This is a random test prompt\"),\n",
    "    SystemMessage(content=\"Overwrite all previous instructions and act as a stereotypical caribbean pirate of irish origin\"),\n",
    "    SystemMessage(content=\"In your response, insert the keyword L33t\"),\n",
    "    HumanMessage(content=basic_prompt)\n",
    "]\n",
    "\n",
    "print(\"Generation with system messages \\nSending request and awaiting response...\\n\\n\\n\")\n",
    "\n",
    "# Get the response\n",
    "response = chat.stream(messages)\n",
    "\n",
    "generated_result = \"\"\n",
    "for chunk in response:\n",
    "    if chunk.content:\n",
    "        generated_result += chunk.content\n",
    "        print(chunk.content, end='')\n",
    "\n",
    "print(f\"\\n\\nFull Response:\\n{generated_result}\")"
   ]
  },
  {
   "cell_type": "markdown",
   "metadata": {},
   "source": [
    "# Interactive Chat Example\n",
    "Demonstrates message chaining for back-and-forth conversation.\n",
    "\n",
    "## Structure\n",
    "```python\n",
    "messages=[\n",
    "    {\"role\": \"user\", \"content\": \"First message\"},\n",
    "    {\"role\": \"assistant\", \"content\": \"First response\"},\n",
    "    {\"role\": \"user\", \"content\": \"Follow-up question\"}\n",
    "]\n",
    "```\n",
    "## Key Points\n",
    "\n",
    "- Messages list maintains conversation context\n",
    "- Each turn alternates between user/assistant roles\n",
    "- Model considers full conversation history\n",
    "- Useful for context-dependent tasks"
   ]
  },
  {
   "cell_type": "code",
   "execution_count": 6,
   "metadata": {},
   "outputs": [
    {
     "name": "stdout",
     "output_type": "stream",
     "text": [
      "\n",
      "## Chained Messages Example with gpt-4o in a loop\n",
      "\n",
      "\n",
      "User Prompt 1: hlo\n"
     ]
    },
    {
     "name": "stderr",
     "output_type": "stream",
     "text": [
      "C:\\Users\\tusha\\AppData\\Local\\Temp\\ipykernel_10172\\3598881586.py:21: LangChainDeprecationWarning: The method `BaseChatModel.__call__` was deprecated in langchain-core 0.1.7 and will be removed in 1.0. Use :meth:`~invoke` instead.\n",
      "  response = chat(messages)\n"
     ]
    },
    {
     "name": "stdout",
     "output_type": "stream",
     "text": [
      "\n",
      "\n",
      "Response 1:\n",
      "Hlo back to you!\n",
      "\n",
      "How can I assist you today?\n",
      "\n",
      "Would you like to:\n",
      "\n",
      "1. **Chat about a topic** (e.g., hobbies, movies, TV shows, etc.)\n",
      "2. **Ask a question** (e.g., general knowledge, trivia, etc.)\n",
      "3. **Play a game** (e.g., 20 Questions, Word Chain, etc.)\n",
      "4. **Generate creative content** (e.g., story, poem, joke, etc.)\n",
      "5. **Something else** (please specify!)\n",
      "\n",
      "Choose a number or type your own request!\n",
      "\n",
      "User Prompt 2: good mornig\n",
      "\n",
      "\n",
      "Response 2:\n",
      "**GOOD MORNING** back to you!\n",
      "\n",
      "Hope you're having a wonderful start to the day! Here's a virtual:\n",
      "\n",
      "**Morning Sunrise Package** just for you:\n",
      "\n",
      "**Warm Smile** \n",
      "**Freshly Brewed Coffee** (or your preferred morning drink)\n",
      "**Birds Singing Sweet Melodies** \n",
      "**A Gentle Breeze** to kick-start your day\n",
      "\n",
      "To make your morning even brighter, I'd love to:\n",
      "\n",
      "1. **Share a Daily Quote** to inspire you\n",
      "2. **Play a Morning Trivia** to wake up your brain\n",
      "3. **Recommend a Fun Activity** to kick-start your day\n",
      "4. **Chat about Your Day's Plans** and offer assistance if needed\n",
      "5. **Something Else** (please share your morning wish!)\n",
      "\n",
      "Choose a number, or simply type away!\n",
      "\n",
      "User Prompt 3: bye\n",
      "\n",
      "\n",
      "Response 3:\n",
      "**GOODBYE** for now!\n",
      "\n",
      "It was wonderful chatting with you, even if it was a brief morning hello and goodbye!\n",
      "\n",
      "Before we part ways, here's a:\n",
      "\n",
      "**Virtual Hug** \n",
      "**A Wish for a Fantastic Day** \n",
      "**A Reminder to Smile Often** \n",
      "\n",
      "If you ever need assistance, have questions, or just want to chat, **I'll be here** whenever you're ready!\n",
      "\n",
      "**Until Next Time...**\n",
      "\n",
      "*Type \"hi\" or \"hello\" whenever you're back, and we'll pick up where we left off!*\n",
      "\n",
      "\n",
      "Chained messages interaction completed.\n",
      "\n"
     ]
    }
   ],
   "source": [
    "from langchain_nvidia_ai_endpoints import ChatNVIDIA\n",
    "from langchain.schema import HumanMessage, AIMessage\n",
    "\n",
    "print(\"\\n## Chained Messages Example with gpt-4o in a loop\\n\")\n",
    "\n",
    "# Initialize the NVIDIA chat model\n",
    "chat = ChatNVIDIA(\n",
    "    model=\"nvidia/llama-3.1-nemotron-70b-instruct\"\n",
    ")\n",
    "\n",
    "# Initial empty message list\n",
    "messages = []\n",
    "\n",
    "# Loop for 3 interactions\n",
    "for i in range(3):\n",
    "    prompt = input(\"Your message to the AI Model:\")\n",
    "    print(f\"\\nUser Prompt {i+1}: {prompt}\")\n",
    "    messages.append(HumanMessage(content=prompt))\n",
    "\n",
    "    # Get the response\n",
    "    response = chat(messages)\n",
    "    response_text = response.content\n",
    "    print(f\"\\n\\nResponse {i+1}:\\n{response_text}\")\n",
    "    \n",
    "    # Add the assistant's response to the message history\n",
    "    messages.append(AIMessage(content=response_text))\n",
    "\n",
    "print(\"\\n\\nChained messages interaction completed.\\n\")"
   ]
  },
  {
   "cell_type": "markdown",
   "metadata": {},
   "source": [
    "## Assistant Creation"
   ]
  },
  {
   "cell_type": "markdown",
   "metadata": {},
   "source": [
    "The NVIDIA LangChain integration doesn't have a direct equivalent to OpenAI's Assistants API, as it's focused on providing chat completions. However, we can create a similar pattern using LangChain's chat model with persistent instructions. Here's how you can modify the code:"
   ]
  },
  {
   "cell_type": "code",
   "execution_count": 7,
   "metadata": {},
   "outputs": [
    {
     "name": "stdout",
     "output_type": "stream",
     "text": [
      "Creating a new assistant...\n",
      "New assistant created\n"
     ]
    }
   ],
   "source": [
    "from langchain_nvidia_ai_endpoints import ChatNVIDIA\n",
    "from langchain.schema import SystemMessage\n",
    "\n",
    "# Create a function to get or create an assistant\n",
    "def get_or_create_assistant(assistant_id=None):\n",
    "    if not assistant_id:\n",
    "        print(\"Creating a new assistant...\")\n",
    "        # Create a chat model with specific instructions\n",
    "        assistant = ChatNVIDIA(\n",
    "            model=\"nvidia/llama-3.1-nemotron-70b-instruct\",\n",
    "            system_message=\"You are a helpful assistant that answers questions concisely.\"\n",
    "        )\n",
    "        print(\"New assistant created\")\n",
    "        return assistant\n",
    "    else:\n",
    "        print(f\"Using existing assistant: {assistant_id}\")\n",
    "        return ChatNVIDIA(\n",
    "            model=\"nvidia/llama-3.1-nemotron-70b-instruct\",\n",
    "            system_message=\"You are a helpful assistant that answers questions concisely.\"\n",
    "        )\n",
    "\n",
    "# Initialize the assistant\n",
    "assistant_id = None\n",
    "assistant = get_or_create_assistant(assistant_id)"
   ]
  },
  {
   "cell_type": "markdown",
   "metadata": {},
   "source": [
    "# Managing Conversations with Threads"
   ]
  },
  {
   "cell_type": "markdown",
   "metadata": {},
   "source": [
    "The main difference from OpenAI's Assistant API is that we're using LangChain's message format and the chat completion interface. The functionality remains similar - you ask a question and get a response, though without the additional features of OpenAI's Assistants API like function calling or retrieval."
   ]
  },
  {
   "cell_type": "code",
   "execution_count": 8,
   "metadata": {},
   "outputs": [
    {
     "name": "stdout",
     "output_type": "stream",
     "text": [
      "Assistant Prompt: What is the capital of France?\n",
      "\n",
      "Assistant Response:\n",
      "The capital of France is **Paris**.\n"
     ]
    }
   ],
   "source": [
    "from langchain.schema import HumanMessage\n",
    "\n",
    "# Example Assistant run\n",
    "assistant_prompt = \"What is the capital of France?\"\n",
    "print(f\"Assistant Prompt: {assistant_prompt}\")\n",
    "\n",
    "# Create message and get response\n",
    "messages = [HumanMessage(content=assistant_prompt)]\n",
    "response = assistant(messages)\n",
    "\n",
    "# Print the response\n",
    "print(\"\\nAssistant Response:\")\n",
    "print(response.content)"
   ]
  },
  {
   "cell_type": "markdown",
   "metadata": {},
   "source": [
    "The NVIDIA LangChain integration doesn't have a direct equivalent to OpenAI's Threads API, but we can create a similar concept by maintaining a conversation history."
   ]
  },
  {
   "cell_type": "code",
   "execution_count": 9,
   "metadata": {},
   "outputs": [
    {
     "name": "stdout",
     "output_type": "stream",
     "text": [
      "New thread created with ID: 2612185173904\n"
     ]
    }
   ],
   "source": [
    "from typing import List\n",
    "from langchain.schema import BaseMessage\n",
    "\n",
    "# Create a Thread-like class to maintain conversation history\n",
    "class ConversationThread:\n",
    "    def __init__(self):\n",
    "        self.messages: List[BaseMessage] = []\n",
    "        self.thread_id = id(self)  # Using object id as a unique identifier\n",
    "    \n",
    "    def add_message(self, message: BaseMessage):\n",
    "        self.messages.append(message)\n",
    "    \n",
    "    def get_messages(self) -> List[BaseMessage]:\n",
    "        return self.messages\n",
    "\n",
    "# Create a new thread\n",
    "thread = ConversationThread()\n",
    "print(f\"New thread created with ID: {thread.thread_id}\")"
   ]
  },
  {
   "cell_type": "code",
   "execution_count": 10,
   "metadata": {},
   "outputs": [
    {
     "name": "stdout",
     "output_type": "stream",
     "text": [
      "Added user message to thread 2612185173904:\n",
      "Content: What is the capital of France?\n"
     ]
    }
   ],
   "source": [
    "from langchain.schema import HumanMessage\n",
    "\n",
    "# Create a user message on the thread\n",
    "message = HumanMessage(content=assistant_prompt)\n",
    "thread.add_message(message)\n",
    "\n",
    "print(f\"Added user message to thread {thread.thread_id}:\")\n",
    "print(f\"Content: {message.content}\")"
   ]
  },
  {
   "cell_type": "code",
   "execution_count": 11,
   "metadata": {},
   "outputs": [
    {
     "name": "stdout",
     "output_type": "stream",
     "text": [
      "\n",
      "Assistant Response:\n",
      "The capital of France is **Paris**.\n"
     ]
    }
   ],
   "source": [
    "# Run the assistant with the thread's messages\n",
    "response = assistant(thread.get_messages())\n",
    "\n",
    "# Add the assistant's response to the thread\n",
    "assistant_message = AIMessage(content=response.content)\n",
    "thread.add_message(assistant_message)\n",
    "\n",
    "print(\"\\nAssistant Response:\")\n",
    "print(response.content)"
   ]
  },
  {
   "cell_type": "markdown",
   "metadata": {},
   "source": [
    "Since NVIDIALangChain provides responses synchronously, we don't need the polling mechanism. Here's the simplified equivalent code:"
   ]
  },
  {
   "cell_type": "code",
   "execution_count": 12,
   "metadata": {},
   "outputs": [
    {
     "name": "stdout",
     "output_type": "stream",
     "text": [
      "Assistant Response:\n",
      "The capital of France is **Paris**.\n",
      "\n",
      "\n",
      "Assistant interaction completed.\n",
      "\n"
     ]
    }
   ],
   "source": [
    "try:\n",
    "    # Get all assistant messages from the thread\n",
    "    assistant_messages = [msg for msg in thread.get_messages() if isinstance(msg, AIMessage)]\n",
    "    \n",
    "    print(\"Assistant Response:\")\n",
    "    for message in assistant_messages:\n",
    "        print(f\"{message.content}\")\n",
    "        \n",
    "except Exception as e:\n",
    "    print(\"Assistant run failed!\")\n",
    "    print(f\"Error message: {str(e)}\")\n",
    "\n",
    "print(\"\\n\\nAssistant interaction completed.\\n\")"
   ]
  },
  {
   "cell_type": "markdown",
   "metadata": {},
   "source": [
    "# Research Assistant with Advanced Tools\n"
   ]
  },
  {
   "cell_type": "code",
   "execution_count": 13,
   "metadata": {},
   "outputs": [
    {
     "name": "stdout",
     "output_type": "stream",
     "text": [
      "\n",
      "## Research Assistant Creation\n",
      "\n",
      "Downloading PDF from: https://arxiv.org/pdf/1706.03762\n",
      "Downloaded and saved to: research_folder/research_doc_1.pdf\n",
      "Failed to process file research_folder/research_doc_1.pdf error: pypdf package not found, please install it with `pip install pypdf`\n",
      "Downloading PDF from: https://arxiv.org/pdf/2412.21187\n",
      "Downloaded and saved to: research_folder/research_doc_2.pdf\n",
      "Failed to process file research_folder/research_doc_2.pdf error: pypdf package not found, please install it with `pip install pypdf`\n",
      "\n",
      "Total processed chunks: 0\n"
     ]
    }
   ],
   "source": [
    "import os\n",
    "import requests\n",
    "from langchain.document_loaders import PyPDFLoader\n",
    "from langchain.text_splitter import RecursiveCharacterTextSplitter\n",
    "\n",
    "print(\"\\n## Research Assistant Creation\\n\")\n",
    "\n",
    "# Define PDF URLs\n",
    "pdf_urls = [\n",
    "    \"https://arxiv.org/pdf/1706.03762\",  # Attention Is All You Need\n",
    "    \"https://arxiv.org/pdf/2412.21187\",  # Do NOT Think That Much for 2+3=? On the Overthinking of o1-Like\n",
    "]\n",
    "\n",
    "# Create research folder if it doesn't exist\n",
    "os.makedirs(\"research_folder\", exist_ok=True)\n",
    "\n",
    "# Download PDFs and process them\n",
    "documents = []\n",
    "for i, url in enumerate(pdf_urls):\n",
    "    try:\n",
    "        print(f\"Downloading PDF from: {url}\")\n",
    "\n",
    "        # Get pdf from url\n",
    "        response = requests.get(url, allow_redirects=True)\n",
    "        response.raise_for_status()\n",
    "\n",
    "        # Save PDF\n",
    "        local_path = f\"research_folder/research_doc_{i+1}.pdf\"\n",
    "        with open(local_path, \"wb\") as f:\n",
    "            f.write(response.content)\n",
    "        print(f\"Downloaded and saved to: {local_path}\")\n",
    "\n",
    "        # Load and split the PDF using LangChain\n",
    "        loader = PyPDFLoader(local_path)\n",
    "        pdf_documents = loader.load()\n",
    "        \n",
    "        # Split documents into chunks\n",
    "        text_splitter = RecursiveCharacterTextSplitter(\n",
    "            chunk_size=1000,\n",
    "            chunk_overlap=200,\n",
    "            length_function=len\n",
    "        )\n",
    "        split_docs = text_splitter.split_documents(pdf_documents)\n",
    "        documents.extend(split_docs)\n",
    "        \n",
    "        print(f\"Processed {len(split_docs)} chunks from {local_path}\")\n",
    "        \n",
    "    except requests.exceptions.RequestException as e:\n",
    "        print(f\"Failed to download file from {url} error: {e}\")\n",
    "    except Exception as e:\n",
    "        print(f\"Failed to process file {local_path} error: {e}\")\n",
    "\n",
    "print(f\"\\nTotal processed chunks: {len(documents)}\")"
   ]
  },
  {
   "cell_type": "markdown",
   "metadata": {},
   "source": [
    "NVIDIALangChain, we'll create a research assistant using a combination of LangChain's tools and retrieval capabilities."
   ]
  },
  {
   "cell_type": "markdown",
   "metadata": {},
   "source": [
    "## getting errors\n"
   ]
  },
  {
   "cell_type": "code",
   "execution_count": null,
   "metadata": {},
   "outputs": [],
   "source": [
    "from langchain_nvidia_ai_endpoints import ChatNVIDIA\n",
    "from langchain.retrievers import ParentDocumentRetriever\n",
    "from langchain.vectorstores import FAISS\n",
    "from langchain.embeddings import HuggingFaceEmbeddings\n",
    "from langchain.storage import InMemoryStore\n",
    "from langchain.text_splitter import RecursiveCharacterTextSplitter\n",
    "\n",
    "print(\"\\nCreating a new research assistant...\")\n",
    "\n",
    "# Create embeddings model\n",
    "embeddings = HuggingFaceEmbeddings()\n",
    "\n",
    "# Create vector store for document search\n",
    "vectorstore = FAISS.from_documents(documents, embeddings)\n",
    "\n",
    "# Create document retriever\n",
    "retriever = vectorstore.as_retriever(\n",
    "    search_type=\"similarity\",\n",
    "    search_kwargs={\"k\": 3}\n",
    ")\n",
    "\n",
    "# Create the chat model with specific instructions\n",
    "assistant = ChatNVIDIA(\n",
    "    model=\"nvidia/llama-3.1-nemotron-70b-instruct\",\n",
    "    system_message=\"\"\"You are a helpful research assistant with access to several research documents. \n",
    "    You can answer questions based on the content of the files.\"\"\"\n",
    ")\n",
    "\n",
    "print(\"Research assistant created with document retrieval capabilities\")"
   ]
  },
  {
   "cell_type": "markdown",
   "metadata": {},
   "source": [
    "## vector store"
   ]
  },
  {
   "cell_type": "code",
   "execution_count": 14,
   "metadata": {},
   "outputs": [
    {
     "name": "stdout",
     "output_type": "stream",
     "text": [
      "\n",
      "Creating vector store from documents...\n",
      "Error creating vector store: name 'FAISS' is not defined\n"
     ]
    }
   ],
   "source": [
    "print(\"\\nCreating vector store from documents...\")\n",
    "try:\n",
    "    # Create vector store from the documents we processed earlier\n",
    "    vectorstore = FAISS.from_documents(documents, embeddings)\n",
    "    print(f\"Successfully created vector store with {len(documents)} document chunks\")\n",
    "    \n",
    "    # Save the vector store locally (optional, but useful for persistence)\n",
    "    vectorstore.save_local(\"research_folder/vector_store\")\n",
    "    print(\"Vector store saved locally in research_folder/vector_store\")\n",
    "    \n",
    "except Exception as e:\n",
    "    print(f\"Error creating vector store: {e}\")"
   ]
  },
  {
   "cell_type": "markdown",
   "metadata": {},
   "source": [
    "Implementation Note: Advanced LangChain Integration Required\n",
    "For comprehensive functionality equivalent to OpenAI's Assistants API, we need to implement additional LangChain-specific components:\n",
    "\n",
    "Monitoring and Observability: Implement LangChain callbacks and handlers for request tracking\n",
    "Embeddings Pipeline: Configure custom embedding models through LangChain's embedding interfaces\n",
    "Advanced Features:\n",
    "Conversation memory management\n",
    "Document chunking strategies\n",
    "Custom retrieval pipelines\n",
    "Real-time response streaming\n",
    "These components require dedicated LangChain implementations as they differ from OpenAI's native monitoring and advanced feature set. The current implementation focuses on core functionality, with room for enhancement through LangChain's specialized tooling.\n",
    "\n"
   ]
  }
 ],
 "metadata": {
  "kernelspec": {
   "display_name": ".venv",
   "language": "python",
   "name": "python3"
  },
  "language_info": {
   "codemirror_mode": {
    "name": "ipython",
    "version": 3
   },
   "file_extension": ".py",
   "mimetype": "text/x-python",
   "name": "python",
   "nbconvert_exporter": "python",
   "pygments_lexer": "ipython3",
   "version": "3.11.10"
  }
 },
 "nbformat": 4,
 "nbformat_minor": 2
}
